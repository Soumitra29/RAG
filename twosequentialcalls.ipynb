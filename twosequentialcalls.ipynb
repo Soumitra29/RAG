{
  "nbformat": 4,
  "nbformat_minor": 0,
  "metadata": {
    "colab": {
      "provenance": []
    },
    "kernelspec": {
      "name": "python3",
      "display_name": "Python 3"
    },
    "language_info": {
      "name": "python"
    }
  },
  "cells": [
    {
      "cell_type": "code",
      "source": [
        "!pip install -qU langchain_openai\n",
        "!pip install -qU langchain\n",
        "!pip install -qU langchain_core"
      ],
      "metadata": {
        "colab": {
          "base_uri": "https://localhost:8080/"
        },
        "id": "TkfB6T91NquI",
        "outputId": "3abe8656-7ecb-4048-fa62-fe26752cd17e"
      },
      "execution_count": 2,
      "outputs": [
        {
          "output_type": "stream",
          "name": "stdout",
          "text": [
            "\u001b[2K     \u001b[90m━━━━━━━━━━━━━━━━━━━━━━━━━━━━━━━━━━━━━━━━\u001b[0m \u001b[32m50.6/50.6 kB\u001b[0m \u001b[31m886.5 kB/s\u001b[0m eta \u001b[36m0:00:00\u001b[0m\n",
            "\u001b[2K   \u001b[90m━━━━━━━━━━━━━━━━━━━━━━━━━━━━━━━━━━━━━━━━\u001b[0m \u001b[32m50.4/50.4 kB\u001b[0m \u001b[31m3.3 MB/s\u001b[0m eta \u001b[36m0:00:00\u001b[0m\n",
            "\u001b[2K   \u001b[90m━━━━━━━━━━━━━━━━━━━━━━━━━━━━━━━━━━━━━━━━\u001b[0m \u001b[32m408.0/408.0 kB\u001b[0m \u001b[31m10.8 MB/s\u001b[0m eta \u001b[36m0:00:00\u001b[0m\n",
            "\u001b[2K   \u001b[90m━━━━━━━━━━━━━━━━━━━━━━━━━━━━━━━━━━━━━━━━\u001b[0m \u001b[32m386.9/386.9 kB\u001b[0m \u001b[31m23.1 MB/s\u001b[0m eta \u001b[36m0:00:00\u001b[0m\n",
            "\u001b[2K   \u001b[90m━━━━━━━━━━━━━━━━━━━━━━━━━━━━━━━━━━━━━━━━\u001b[0m \u001b[32m1.2/1.2 MB\u001b[0m \u001b[31m41.4 MB/s\u001b[0m eta \u001b[36m0:00:00\u001b[0m\n",
            "\u001b[2K   \u001b[90m━━━━━━━━━━━━━━━━━━━━━━━━━━━━━━━━━━━━━━━━\u001b[0m \u001b[32m76.4/76.4 kB\u001b[0m \u001b[31m5.3 MB/s\u001b[0m eta \u001b[36m0:00:00\u001b[0m\n",
            "\u001b[2K   \u001b[90m━━━━━━━━━━━━━━━━━━━━━━━━━━━━━━━━━━━━━━━━\u001b[0m \u001b[32m78.0/78.0 kB\u001b[0m \u001b[31m5.0 MB/s\u001b[0m eta \u001b[36m0:00:00\u001b[0m\n",
            "\u001b[2K   \u001b[90m━━━━━━━━━━━━━━━━━━━━━━━━━━━━━━━━━━━━━━━━\u001b[0m \u001b[32m325.2/325.2 kB\u001b[0m \u001b[31m20.8 MB/s\u001b[0m eta \u001b[36m0:00:00\u001b[0m\n",
            "\u001b[2K   \u001b[90m━━━━━━━━━━━━━━━━━━━━━━━━━━━━━━━━━━━━━━━━\u001b[0m \u001b[32m296.9/296.9 kB\u001b[0m \u001b[31m16.5 MB/s\u001b[0m eta \u001b[36m0:00:00\u001b[0m\n",
            "\u001b[2K   \u001b[90m━━━━━━━━━━━━━━━━━━━━━━━━━━━━━━━━━━━━━━━━\u001b[0m \u001b[32m144.5/144.5 kB\u001b[0m \u001b[31m9.9 MB/s\u001b[0m eta \u001b[36m0:00:00\u001b[0m\n",
            "\u001b[2K   \u001b[90m━━━━━━━━━━━━━━━━━━━━━━━━━━━━━━━━━━━━━━━━\u001b[0m \u001b[32m54.5/54.5 kB\u001b[0m \u001b[31m3.4 MB/s\u001b[0m eta \u001b[36m0:00:00\u001b[0m\n",
            "\u001b[2K   \u001b[90m━━━━━━━━━━━━━━━━━━━━━━━━━━━━━━━━━━━━━━━━\u001b[0m \u001b[32m58.3/58.3 kB\u001b[0m \u001b[31m3.9 MB/s\u001b[0m eta \u001b[36m0:00:00\u001b[0m\n",
            "\u001b[2K   \u001b[90m━━━━━━━━━━━━━━━━━━━━━━━━━━━━━━━━━━━━━━━━\u001b[0m \u001b[32m1.0/1.0 MB\u001b[0m \u001b[31m11.2 MB/s\u001b[0m eta \u001b[36m0:00:00\u001b[0m\n",
            "\u001b[?25h"
          ]
        }
      ]
    },
    {
      "cell_type": "code",
      "execution_count": 4,
      "metadata": {
        "colab": {
          "base_uri": "https://localhost:8080/"
        },
        "id": "chIdkeWFMj2S",
        "outputId": "8f54a538-6e0d-4abf-8498-1e31fd94cca7"
      },
      "outputs": [
        {
          "name": "stdout",
          "output_type": "stream",
          "text": [
            " Enter AZURE_OPENAI_ENDPOINT : ··········\n",
            " Enter AZURE_OPENAI_DEPLOYMENT_NAME : ··········\n",
            " Enter AZURE_OPENAI_API_VERSION : ··········\n",
            " Enter AZURE_OPENAI_API_KEY : ··········\n"
          ]
        }
      ],
      "source": [
        "import os\n",
        "import getpass\n",
        "os.environ[\"AZURE_OPENAI_ENDPOINT\"] = getpass.getpass(\" Enter AZURE_OPENAI_ENDPOINT : \")\n",
        "os.environ[\"AZURE_OPENAI_DEPLOYMENT_NAME\"] = getpass.getpass(\" Enter AZURE_OPENAI_DEPLOYMENT_NAME : \")\n",
        "os.environ[\"AZURE_OPENAI_API_VERSION\"] = getpass.getpass(\" Enter AZURE_OPENAI_API_VERSION : \")\n",
        "os.environ[\"AZURE_OPENAI_API_KEY\"] = getpass.getpass(\" Enter AZURE_OPENAI_API_KEY : \")"
      ]
    },
    {
      "cell_type": "code",
      "source": [
        "from langchain_openai import AzureChatOpenAI\n",
        "from langchain_core.prompts import ChatPromptTemplate\n",
        "from langchain_core.runnables import RunnablePassthrough\n",
        "# from langchain.chain import SimpleSequentialChain\n",
        "from langchain_core.output_parsers import StrOutputParser\n",
        "\n",
        "template = ChatPromptTemplate([\n",
        "    (\"system\",\"Your job is to come up with the best tourist spot in the area that users suggests.\"),\n",
        "    (\"human\",\"{user_input}\")\n",
        "])\n",
        "\n",
        "llm = AzureChatOpenAI(\n",
        "    azure_endpoint = os.environ[\"AZURE_OPENAI_ENDPOINT\"],\n",
        "    azure_deployment = os.environ[\"AZURE_OPENAI_DEPLOYMENT_NAME\"],\n",
        "    openai_api_version = os.environ[\"AZURE_OPENAI_API_VERSION\"],\n",
        "    api_key = os.environ[\"AZURE_OPENAI_API_KEY\"]\n",
        ")\n",
        "\n",
        "location_chain = (template | llm | RunnablePassthrough() | StrOutputParser())\n",
        "# Reordered the chain: template should be first to format the prompt before passing to llm\n",
        "\n",
        "# Use the format method of the template to create the prompt string with the user input\n",
        "result1 = location_chain.invoke(template.format(user_input=\"Suggest a tourist spot in Bankura.\"))\n",
        "print(result1)"
      ],
      "metadata": {
        "colab": {
          "base_uri": "https://localhost:8080/"
        },
        "id": "hFXNxCjtNfXl",
        "outputId": "d4901af3-f786-4271-9d15-640f90ba7d39"
      },
      "execution_count": 16,
      "outputs": [
        {
          "output_type": "stream",
          "name": "stdout",
          "text": [
            "Bankura is a district in the Indian state of West Bengal, known for its rich cultural heritage and stunning natural beauty. One of the best tourist spots in Bankura is Bishnupur.\n",
            "\n",
            "Bishnupur is renowned for its exquisite terracotta temples and unique Baluchari sarees. The town is steeped in history and offers a glimpse into the glorious past of the Malla dynasty. Some must-visit attractions in Bishnupur include:\n",
            "\n",
            "1. Rasmancha: This 17th-century temple is the oldest brick temple in Bishnupur and is famous for its pyramidal structure. It was built by King Hambir in 1600 AD and is dedicated to Lord Krishna.\n",
            "\n",
            "2. Jorbangla Temple: Also known as the Keshta Rai Temple, it is one of the most important terracotta temples in Bishnupur. The temple showcases intricate carvings depicting scenes from the Ramayana and Mahabharata.\n",
            "\n",
            "3. Madan Mohan Temple: Built in the 17th century, this temple is dedicated to Lord Krishna. It is known for its beautiful architecture and intricate terracotta work.\n",
            "\n",
            "4. Dalmadal Cannon: This historic cannon is located near the Madan Mohan Temple. It was used by the Malla kings to defend their kingdom against invasions.\n",
            "\n",
            "5. Bishnupur Mela: If you visit Bishnupur during the winter season, you can witness the vibrant Bishnupur Mela. This fair showcases the rich cultural heritage of the region, with folk dances, music, and handicrafts on display.\n",
            "\n",
            "Apart from these attractions, Bishnupur is also known for its music and handicrafts. You can explore the local markets to buy beautiful terracotta items, Baluchari sarees, and conch-shell crafts.\n",
            "\n",
            "Overall, Bishnupur in Bankura is a perfect tourist spot for history enthusiasts, art lovers, and anyone seeking a unique cultural experience.\n"
          ]
        }
      ]
    },
    {
      "cell_type": "code",
      "source": [
        "template_2 = ChatPromptTemplate([\n",
        "    (\"system\",\"Given the best tourist spot, provide a short reason in a single line describing why the tourist spot is suggested.\"),\n",
        "    (\"human\",\"{user_input}\")\n",
        "])\n",
        "reasoning_chain = (template_2| llm | RunnablePassthrough() | StrOutputParser())\n",
        "result2 = reasoning_chain.invoke(template_2.format(user_input=result1))\n",
        "print(result2)"
      ],
      "metadata": {
        "colab": {
          "base_uri": "https://localhost:8080/"
        },
        "id": "pl8eJTOVT0Bf",
        "outputId": "ae4585fd-0a31-4f04-d83f-08e73953318a"
      },
      "execution_count": 17,
      "outputs": [
        {
          "output_type": "stream",
          "name": "stdout",
          "text": [
            "Bishnupur is suggested as a tourist spot because of its rich cultural heritage, stunning terracotta temples, unique Baluchari sarees, and vibrant Bishnupur Mela.\n"
          ]
        }
      ]
    },
    {
      "cell_type": "code",
      "source": [],
      "metadata": {
        "id": "V_o815YnUepm"
      },
      "execution_count": null,
      "outputs": []
    }
  ]
}